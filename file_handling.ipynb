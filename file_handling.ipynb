{
  "nbformat": 4,
  "nbformat_minor": 0,
  "metadata": {
    "colab": {
      "provenance": []
    },
    "kernelspec": {
      "name": "python3",
      "display_name": "Python 3"
    },
    "language_info": {
      "name": "python"
    }
  },
  "cells": [
    {
      "cell_type": "markdown",
      "source": [
        "QUESTION NO.1\n",
        "- Interpreted language executes line by line while compiled language executes whole code at once\n",
        "\n",
        "QUESTION NO.2\n",
        "- exception handling is used to handle unwanted condition that  occurs in a code that will give an error .\n",
        "\n",
        "QUESTION NO.3\n",
        "- Finally block will execute either there is a error or not.\n",
        "\n",
        "QUESTION NO.4\n",
        "- logging used for debugging, we need to import it\n",
        "\n",
        "QUESTION NO.5\n",
        "- _del_ is a magic method that is used delete  the object\n",
        "\n",
        "QUESTION NO.6\n",
        "- import statement is used to get all the functions of module, whereas from ** import it is used to get particular function from the module\n",
        "\n",
        "QUESTION NO.7\n",
        "- We can handle multiple exceptions with the help of different catch block\n",
        "\n",
        "QUESTION NO.8\n",
        "- we use with statement with the file because it will close the file automatically after working on it , otherwise we need to do it\n",
        "\n",
        "QUESTION NO.9\n",
        "- in multiple processing, program runs parallel different processesor , where as in multithreading single processor is used with multiple threads of program\n",
        "\n",
        "QUESTION NO.10\n",
        "- it is used to debug the code with provide specific errors\n",
        "\n",
        "QUESTION NO.11\n",
        "- memory management define as how the python allocates and deallocates memory\n",
        "\n",
        "QUESTION NO.12\n",
        "- in exception  handling the code that can cause error written inside the try block , if it cause error it will be catched  by the except block . where as else statement will work if except block not execute else vice versa and finally block will execute irrespective of anything\n",
        "\n",
        "QUESTION NO.13\n",
        "- to use the memory space effeciently , to delete unwanted variables\n",
        "\n",
        "QUESTION NO.14\n",
        "- in exception  handling the code that can cause error written inside the try block , if it cause error it will be catched  by the except block\n",
        "\n",
        "QUESTION NO.15\n",
        "- it will delete the object that is in memory of no use\n",
        "QUESTION NO.16\n",
        "- else block will execute when there no error occur in try catch block\n",
        "\n",
        "QUESTION NO.17\n",
        "- there are various levels in logging i.e.\n",
        "warning , error , debug , critical , info\n",
        "\n",
        "\n",
        "QUESTION NO.18\n",
        "- os.fork() to create a new process from the current process whereas multi processing used to run single functions parallely.\n",
        "\n",
        "QUESTION NO.19\n",
        "- when we open the file the resources is a located show was we close the file then the resources candy given to other operations as well as for the data is not a loss that's why we need to close the file.\n",
        "\n",
        "QUESTION NO.20\n",
        "- read function is to read each line of a file whereas readline() is to read just first line of file\n",
        "\n",
        "QUESTION NO.21\n",
        "- logging is a powerful module that is used to handle the debugging of a program to give message about particular line of code\n",
        "\n",
        "QUESTION NO.22\n",
        "- os model in python is used to create a new file sharing in the faisla making the new directory saw remove territories\n",
        "\n",
        "QUESTION NO.23\n",
        "- there are various problems with memory many milton python if there is a circular reference or high usage of memory in notes\n",
        "\n",
        "QUESTION NO.24\n",
        "-  we can create our own exception by creating a class and then and inherit the exception class .\n",
        "\n",
        "QUESTION NO.25\n",
        "-  we don't want to run single thread and for ex - some data is coming from server we want that the process run concurently so that the resources did not waste. So we create multiple threads and divide"
      ],
      "metadata": {
        "id": "Xj9VX5TRmoUv"
      }
    },
    {
      "cell_type": "code",
      "source": [
        "#1\n",
        "with open(\"file.txt\",'w') as f:\n",
        "  f.write(\"hello everyone\")\n"
      ],
      "metadata": {
        "id": "8C3_P8Si1krl"
      },
      "execution_count": null,
      "outputs": []
    },
    {
      "cell_type": "code",
      "source": [
        "#2\n",
        "with open(\"file.txt\",\"r\") as f:\n",
        "  f.read()"
      ],
      "metadata": {
        "id": "crhG4IJh116V"
      },
      "execution_count": null,
      "outputs": []
    },
    {
      "cell_type": "code",
      "source": [
        "#3\n",
        "try:\n",
        "  with open(\"file.txt\",\"r\") as f:\n",
        "    f.read()\n",
        "except Exception as e:\n",
        "  print(\"File not found \",e)"
      ],
      "metadata": {
        "id": "O5EMyHiy2IfJ"
      },
      "execution_count": null,
      "outputs": []
    },
    {
      "cell_type": "code",
      "source": [
        "#4\n",
        "with open(\"file.txt\",\"r\") as f:\n",
        "  with open(\"new_file.txt\",\"w\") as f2:\n",
        "    f2.write(f.read())"
      ],
      "metadata": {
        "id": "F9FuxA8n2s37"
      },
      "execution_count": null,
      "outputs": []
    },
    {
      "cell_type": "code",
      "source": [
        "#5\n",
        "try:\n",
        "  x=10/0\n",
        "except Exception as e:\n",
        "  print(\"Divisible by zero \",e)"
      ],
      "metadata": {
        "colab": {
          "base_uri": "https://localhost:8080/"
        },
        "id": "eJuDluVQ3ZwQ",
        "outputId": "70d35e4a-5279-4459-a7fe-493d12c9b13f"
      },
      "execution_count": null,
      "outputs": [
        {
          "output_type": "stream",
          "name": "stdout",
          "text": [
            "Divisible by zero  division by zero\n"
          ]
        }
      ]
    },
    {
      "cell_type": "code",
      "source": [
        "#6\n",
        "import logging\n",
        "logging.basicConfig(filename=\"test.txt\",level=logging.INFO)\n",
        "try:\n",
        "   x=10/0\n",
        "except ZeroDivisionError as e:\n",
        "    logging.error(e)"
      ],
      "metadata": {
        "id": "zhfZsJGp32od",
        "colab": {
          "base_uri": "https://localhost:8080/"
        },
        "outputId": "a45338b1-d208-4b9f-9ff8-b61e442f0c05"
      },
      "execution_count": 4,
      "outputs": [
        {
          "output_type": "stream",
          "name": "stderr",
          "text": [
            "ERROR:root:division by zero\n"
          ]
        }
      ]
    },
    {
      "cell_type": "code",
      "source": [
        "#7\n",
        "logging.basicConfig(\n",
        "    filename=\"fil.log\",\n",
        "    level=logging.INFO,\n",
        "    format='%(levelname)s:%(asctime)s:%(message)s'\n",
        ")\n",
        "\n",
        "logging.info(\"I had started program\")\n",
        "logging.error(\"this is an error occurs\")\n",
        "logging.warning(\"Disk space low!\")"
      ],
      "metadata": {
        "colab": {
          "base_uri": "https://localhost:8080/"
        },
        "id": "pUvcsSz9qgel",
        "outputId": "ff08f6ff-0460-49fd-dac7-ac7947e9d7ad"
      },
      "execution_count": 13,
      "outputs": [
        {
          "output_type": "stream",
          "name": "stderr",
          "text": [
            "ERROR:root:this is an error occurs\n",
            "WARNING:root:Disk space low!\n"
          ]
        }
      ]
    },
    {
      "cell_type": "code",
      "source": [
        "#8\n",
        "try:\n",
        "  with open(\"file.txt\",\"r\") as f:\n",
        "    f.read()\n",
        "except FileNotFoundError as e:\n",
        "  print(\"File not found \",e)"
      ],
      "metadata": {
        "id": "6P98FahM33QJ"
      },
      "execution_count": null,
      "outputs": []
    },
    {
      "cell_type": "code",
      "source": [
        "#9\n",
        "lst=[]\n",
        "with open(\"file.txt\",\"r\") as f:\n",
        "    for x in f:\n",
        "       lst.append(x)"
      ],
      "metadata": {
        "id": "dYW-KTog33fB"
      },
      "execution_count": null,
      "outputs": []
    },
    {
      "cell_type": "code",
      "source": [
        "#10\n",
        "with open(\"file.txt\",\"a\") as f:\n",
        "    f.write(\"helo one more\")"
      ],
      "metadata": {
        "id": "jE21KT8C33tQ"
      },
      "execution_count": null,
      "outputs": []
    },
    {
      "cell_type": "code",
      "source": [
        "#11\n",
        "d={\"name\":\"arham\", \"roll_no\":2324}\n",
        "try:\n",
        "  print(d[\"age\"])\n",
        "except Exception as e:\n",
        "  print(\"Key nt found\",e)"
      ],
      "metadata": {
        "colab": {
          "base_uri": "https://localhost:8080/"
        },
        "id": "8tOHknrt3382",
        "outputId": "f8f5d29c-760b-49c9-e233-d8bf6e31746b"
      },
      "execution_count": null,
      "outputs": [
        {
          "output_type": "stream",
          "name": "stdout",
          "text": [
            "Key nt found 'age'\n"
          ]
        }
      ]
    },
    {
      "cell_type": "code",
      "source": [
        "#12\n",
        "try:\n",
        "  print(10/\"0\")\n",
        "except ZeroDivisionError as e1:\n",
        "  print(e1)\n",
        "except TypeError as e2:\n",
        "  print(e2)\n",
        "except Exception as e:\n",
        "  print(e)"
      ],
      "metadata": {
        "colab": {
          "base_uri": "https://localhost:8080/"
        },
        "id": "yBgnJ5hR34NY",
        "outputId": "d72c0306-abfa-4ee9-ec11-1a3558f62a88"
      },
      "execution_count": null,
      "outputs": [
        {
          "output_type": "stream",
          "name": "stdout",
          "text": [
            "unsupported operand type(s) for /: 'int' and 'str' e\n"
          ]
        }
      ]
    },
    {
      "cell_type": "code",
      "source": [
        "#13\n",
        "import os.path\n",
        "if os.path.exists(\"text.txt\"):\n",
        "  print(\"not exist\")\n",
        "else:\n",
        "  print(\"exist\")"
      ],
      "metadata": {
        "id": "kyyLiIM934eA",
        "colab": {
          "base_uri": "https://localhost:8080/"
        },
        "outputId": "cb5998e6-dcf9-4e65-8bee-3e14c61322c1"
      },
      "execution_count": 25,
      "outputs": [
        {
          "output_type": "stream",
          "name": "stdout",
          "text": [
            "exist\n"
          ]
        }
      ]
    },
    {
      "cell_type": "code",
      "source": [
        "#14\n",
        "logging.info(\"program started\")\n",
        "st=\"abc\"\n",
        "try:\n",
        "  x=int(st)\n",
        "except Exception as e:\n",
        "  logging.error(e)"
      ],
      "metadata": {
        "id": "Vp8PqWSU34tu",
        "colab": {
          "base_uri": "https://localhost:8080/"
        },
        "outputId": "2233bcbb-9286-4b52-c68c-833bb9aff8e6"
      },
      "execution_count": 14,
      "outputs": [
        {
          "output_type": "stream",
          "name": "stderr",
          "text": [
            "ERROR:root:invalid literal for int() with base 10: 'abc'\n"
          ]
        }
      ]
    },
    {
      "cell_type": "code",
      "source": [
        "#15\n",
        "\n",
        "with open(\"num.txt\", 'r') as f:\n",
        "    content = f.read()\n",
        "    if not content:\n",
        "        print(\"File is empty\")\n",
        "    else:\n",
        "        print(content)"
      ],
      "metadata": {
        "id": "3d9ipYrR346s",
        "colab": {
          "base_uri": "https://localhost:8080/"
        },
        "outputId": "f9ca87b3-09f9-4cea-f5e9-0e1ead212a28"
      },
      "execution_count": 28,
      "outputs": [
        {
          "output_type": "stream",
          "name": "stdout",
          "text": [
            "0\n",
            "1\n",
            "2\n",
            "3\n",
            "4\n",
            "\n"
          ]
        }
      ]
    },
    {
      "cell_type": "code",
      "source": [
        "#16\n",
        "# !pip install -q memory-profiler\n",
        "# from memory_profiler import profile\n",
        "from memory_profiler import memory_usage\n",
        "\n",
        "\n",
        "def fun():\n",
        "  x=10*99\n",
        "  y=23934*3483475847739847347\n",
        "  z=x+y\n",
        "\n",
        "mem=memory_usage(fun)\n",
        "mem"
      ],
      "metadata": {
        "id": "t-QQb9xk35I6",
        "colab": {
          "base_uri": "https://localhost:8080/"
        },
        "outputId": "951a89ec-077b-477c-d1b0-91cd2aca1947"
      },
      "execution_count": 19,
      "outputs": [
        {
          "output_type": "execute_result",
          "data": {
            "text/plain": [
              "[185.921875, 185.921875, 185.921875]"
            ]
          },
          "metadata": {},
          "execution_count": 19
        }
      ]
    },
    {
      "cell_type": "code",
      "source": [
        "#17\n",
        "with open(\"num.txt\",'w') as f:\n",
        "   for i in range(5):\n",
        "      f.write(f\"{i}\\n\")"
      ],
      "metadata": {
        "id": "c8_rW9IL35VK"
      },
      "execution_count": 1,
      "outputs": []
    },
    {
      "cell_type": "code",
      "source": [
        "import logging\n",
        "from logging.handlers import RotatingFileHandler\n",
        "\n",
        "# Easy setup\n",
        "logger = logging.getLogger()\n",
        "logger.setLevel(logging.INFO)\n",
        "\n",
        "# Rotation handler (1MB = 1000000 bytes, keep 2 backups)\n",
        "handler = RotatingFileHandler(\"mylog.log\", maxBytes=1000000, backupCount=2)\n",
        "logger.addHandler(handler)\n",
        "\n",
        "# Simple logging\n",
        "logger.info(\"Program started\")\n",
        "\n",
        "for i in range(10000):\n",
        "    logger.info(f\"Log line {i}\")\n"
      ],
      "metadata": {
        "id": "KyjzeY-aw1uQ"
      },
      "execution_count": null,
      "outputs": []
    },
    {
      "cell_type": "code",
      "source": [
        "#19\n",
        "lst=[12,4]\n",
        "try:\n",
        "  print(lst[2])\n",
        "except IndexError as e1:\n",
        "  print(e1)\n",
        "except KeyError as e2:\n",
        "  print(e2)\n"
      ],
      "metadata": {
        "colab": {
          "base_uri": "https://localhost:8080/"
        },
        "id": "vzecWVKg35tJ",
        "outputId": "8adf4efa-b1ac-447f-a6a0-bea8f73ea173"
      },
      "execution_count": null,
      "outputs": [
        {
          "output_type": "stream",
          "name": "stdout",
          "text": [
            "list index out of range\n"
          ]
        }
      ]
    },
    {
      "cell_type": "code",
      "source": [
        "#20\n",
        "with open(\"num.txt\",'r') as f:\n",
        "  print(f.read())"
      ],
      "metadata": {
        "id": "RzKc7HuF354_",
        "colab": {
          "base_uri": "https://localhost:8080/"
        },
        "outputId": "2a0ae64e-04e7-4f4f-9875-c58d3f41a1db"
      },
      "execution_count": 30,
      "outputs": [
        {
          "output_type": "stream",
          "name": "stdout",
          "text": [
            "0\n",
            "1\n",
            "2\n",
            "3\n",
            "4\n",
            "\n"
          ]
        }
      ]
    },
    {
      "cell_type": "code",
      "source": [
        "#21\n",
        "with open(\"file.txt\",'r') as f:\n",
        "    lst=f.readlines()\n",
        "\n",
        "wrd=\"hello\"\n",
        "cnt=0\n",
        "for x in lst:\n",
        "  arr=x.split(\" \")\n",
        "  for word in arr:\n",
        "    if word==wrd:\n",
        "      cnt+=1\n",
        "\n",
        "cnt"
      ],
      "metadata": {
        "colab": {
          "base_uri": "https://localhost:8080/"
        },
        "id": "7-8svti036Gf",
        "outputId": "f485a03a-9568-4c39-eea3-6a5cee6abede"
      },
      "execution_count": null,
      "outputs": [
        {
          "output_type": "execute_result",
          "data": {
            "text/plain": [
              "1"
            ]
          },
          "metadata": {},
          "execution_count": 22
        }
      ]
    },
    {
      "cell_type": "code",
      "source": [
        "#22\n",
        "\n",
        "with open(\"num.txt\", 'r') as f:\n",
        "    content = f.read()\n",
        "    if not content:\n",
        "        print(\"File is empty\")\n",
        "    else:\n",
        "        print(\"File is not empty\")\n"
      ],
      "metadata": {
        "id": "I0zpqYM_36Tg",
        "colab": {
          "base_uri": "https://localhost:8080/"
        },
        "outputId": "08faf736-fe2e-43db-d2db-60c35e9565ba"
      },
      "execution_count": 22,
      "outputs": [
        {
          "output_type": "stream",
          "name": "stdout",
          "text": [
            "File is not empty\n"
          ]
        }
      ]
    },
    {
      "cell_type": "code",
      "source": [
        "#23\n",
        "try:\n",
        "  with open(\"filem.txt\",'r') as f:\n",
        "    f.read()\n",
        "except FileNotFoundError as e:\n",
        "  logging.error(e)"
      ],
      "metadata": {
        "id": "TkqaM-QQ37OH",
        "colab": {
          "base_uri": "https://localhost:8080/"
        },
        "outputId": "9fe27d17-9097-447d-dbfe-bc1348a9539b"
      },
      "execution_count": 20,
      "outputs": [
        {
          "output_type": "stream",
          "name": "stderr",
          "text": [
            "ERROR:root:[Errno 2] No such file or directory: 'filem.txt'\n"
          ]
        }
      ]
    }
  ]
}